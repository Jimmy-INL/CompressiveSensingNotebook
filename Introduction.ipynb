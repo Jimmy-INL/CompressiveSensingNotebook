{
 "cells": [
  {
   "cell_type": "markdown",
   "metadata": {},
   "source": [
    "# Introduction\n",
    "\n",
    "\n",
    "## Most natural signals are compressible\n",
    "Most of natural signals can be expressed in sparse representation, which means most entries are zero or able to be approximated to zero, by using proper transform coding. For example, some of digital image compression algorithms like JPEG make most small coefficients to zeros, so that the large image can be converted into smaller one.\n"
   ]
  },
  {
   "cell_type": "markdown",
   "metadata": {},
   "source": [
    "## Normal procedure to compress the compressible signals\n",
    "In these data compression process, however, multicomponent data are sampled by massive and expensive systems. For example, in the case of digital imaging, the target images are captured by 2D image sensors, like CMOS or CCD.\n",
    "As below figure, high resolution devices sample high dimensional signal and generate the high dimensional data. And next, the high dimensional data are compressed into compact low dimensional data. The reason why we must use such a high resolution measurement device is associated with the sampling theorem.\n",
    "\n",
    "![fig1](http://www.gliffy.com/go/publish/image/8458585/L.png \"fig1\")\n",
    "\n",
    "Sampling rate is dominated by the [Nyquist-Shannon sampling theorem](https://en.wikipedia.org/wiki/Nyquist%E2%80%93Shannon_sampling_theorem). We have to sample signal at higher rate than Nyquist rate, 2T [Hz]. The Nyquist rate is 2 times of the maximum rate which we want the signal has. For example, we usually use image sensors having a lot of pixels to take high resolution pictures. If we want to record high quality sounds, which has high frequency sound signal, we have to do sampling at 2 times higher rate than the rate of the sound signal. It is normally unavoidable that we need to sample signals at high temporal or spatial frequency."
   ]
  },
  {
   "cell_type": "markdown",
   "metadata": {},
   "source": [
    "## Reverse the order of sampling and compression\n",
    "\n",
    "As usual, we have to obey this strict theorem. However, if the signal is enough compressible and we use some special measurements and algorithms, we can overcome the limit of sampling theorem. Therefore, in the situation, we can build the more efficient and ecomonical measurement system like the below figure.\n",
    "\n",
    "![fig2](http://www.gliffy.com/go/publish/image/8458593/L.png \"fig2\")\n",
    "\n",
    "### Key points of target signals\n",
    "* The signal is sparse or compressible.\n",
    "\n",
    "### Key parts of compressive sensing procedure\n",
    "* special measurement: random projection (compression)\n",
    "* special algorithm:   nonlinear sparse recovery algorithms.\n",
    "\n",
    "\n",
    "At first, so we have to define sparsity or compressibility, how sparse or how compressible the signal is. And then, we must know how should we design the measurement matrix. At last, we choose a sparse recovery algorithm which are various in the world now."
   ]
  }
 ],
 "metadata": {
  "kernelspec": {
   "display_name": "Python 2",
   "language": "python",
   "name": "python2"
  },
  "language_info": {
   "codemirror_mode": {
    "name": "ipython",
    "version": 2
   },
   "file_extension": ".py",
   "mimetype": "text/x-python",
   "name": "python",
   "nbconvert_exporter": "python",
   "pygments_lexer": "ipython2",
   "version": "2.7.9"
  }
 },
 "nbformat": 4,
 "nbformat_minor": 0
}
