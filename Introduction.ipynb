{
 "cells": [
  {
   "cell_type": "markdown",
   "metadata": {},
   "source": [
    "# Introduction\n",
    "\n",
    "\n",
    "### Most natural signals are compressible\n",
    "Most of natural signals can be expressed in sparse representation, which means most entries are zero or able to be approximated to zero, by using proper transform coding. For example, some of digital image compression algorithms like JPEG regard most small coefficients as zeros, so that the large image can be converted into smaller one.\n",
    "\n",
    "### Normal procedure of sampling and compression\n",
    "In these data compression process, however, multicomponent data are sampled by expensive and complicated measurement systems. For example, in the case of digital imaging, the target images are measured by 2D image sensors, like CMOS or CCD.\n",
    "\n",
    "![fig1](http://www.gliffy.com/go/publish/image/8458585/L.png \"fig1\")\n",
    "\n",
    "\n",
    "\n",
    "### Reverse the order of sampling and compression\n",
    "\n",
    "![fig2](http://www.gliffy.com/go/publish/image/8458593/L.png \"fig2\")\n",
    "\n",
    "### Overcoming the limit of sampling theorem\n",
    "Sampling rate is dominated by the [Nyquist-Shannon sampling theorem](https://en.wikipedia.org/wiki/Nyquist%E2%80%93Shannon_sampling_theorem). We have to measure signal at higher rate than Nyquist rate, 2T [Hz]. The Nyquist rate is 2 times of the maximum rate which we want the signal has. For example, we usually use image sensors having a lot of pixels to take high resolution pictures. If we want to record high quality sounds, which has high frequency sound signal, we have to do sampling at 2 times higher rate than the rate of the sound signal. It is normally unavoidable that we need to sample signals at high temporal or spatial frequency.\n"
   ]
  }
 ],
 "metadata": {
  "kernelspec": {
   "display_name": "Python 2",
   "language": "python",
   "name": "python2"
  },
  "language_info": {
   "codemirror_mode": {
    "name": "ipython",
    "version": 2
   },
   "file_extension": ".py",
   "mimetype": "text/x-python",
   "name": "python",
   "nbconvert_exporter": "python",
   "pygments_lexer": "ipython2",
   "version": "2.7.9"
  }
 },
 "nbformat": 4,
 "nbformat_minor": 0
}
