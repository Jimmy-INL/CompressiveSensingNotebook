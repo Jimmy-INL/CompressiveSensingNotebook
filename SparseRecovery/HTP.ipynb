{
 "cells": [
  {
   "cell_type": "markdown",
   "metadata": {},
   "source": [
    "# HTP (Hard Thresholding Pursuit)\n",
    "\n",
    "HTP completely update (refresh) the support set in each iterations, so that it is easy to correct direction.\n",
    "\n",
    "#Algorithm\n",
    " \n",
    "## A. Initialization\n",
    "\n",
    "At first, y is set to a residual $r$, and estimated signal $z$ is zero vector.\n",
    "\n",
    "$$\n",
    "\\hat{z}_0 = O \\\\\n",
    "r_0       = y \\\\\n",
    "S_0 = \\phi  \\\\\n",
    "$$\n"
   ]
  },
  {
   "cell_type": "code",
   "execution_count": 14,
   "metadata": {
    "collapsed": false
   },
   "outputs": [],
   "source": [
    "    # in class Greedy\n",
    "    def __init__(self, A, y):\n",
    "        \n",
    "        # Initialization \n",
    "        self.z  = np.zeros(self.n, dtype=np.complex)\n",
    "        self.r  = self.y\n",
    "\n",
    "        \n",
    "    # in class HTP\n",
    "    def __init__(self, A, y, k):\n",
    "    \n",
    "        self.S      = set([]) # support set (indexes)"
   ]
  },
  {
   "cell_type": "markdown",
   "metadata": {},
   "source": [
    "## B. Iteration\n",
    "\n",
    "### 1. Find the index of a most correlated entry\n",
    "\n",
    "$$\n",
    "S_i = L_k \\left( z_{i-1} + A^* r_{i-1} \\right)\n",
    "$$\n",
    "\n",
    "where $L_k$ is a hard thresholding operator to get the idexes of $k$ largest entries.\n",
    "\n",
    "\n",
    "### 2. $l_2$ minimization\n",
    "\n",
    "Combine columns of which indexes are in the support set $S$, as $A_s$.\n",
    "\n",
    "$$ A_s = \\{ A_k ~|~ k \\in S_i \\} $$\n",
    "\n",
    "Next, do $l_2$ minimization by using the pseudo inverse matrix of $A_s$.\n",
    "\n",
    "$$ \\hat{z}_i = {A_s}^- y  $$\n"
   ]
  },
  {
   "cell_type": "code",
   "execution_count": 15,
   "metadata": {
    "collapsed": true
   },
   "outputs": [],
   "source": [
    "    def iterate(self):    \n",
    "       \n",
    "        # update support sets \n",
    "        p        = self.z + np.dot( np.conj(self.A.T), self.r ) \n",
    "        self.S   = set( indexThresholding(p, self.k) )\n",
    "         \n",
    "        # make a matrix which of columns have the index in S\n",
    "        As  = self.A[:, sorted(self.S)]\n",
    "\n",
    "        # to minimum solution of || As z - y ||2 = 0,\n",
    "        # solve least square\n",
    "        zs  = np.dot( np.linalg.pinv(As), self.y )\n",
    "        \n",
    "        # make approximated signal z,\n",
    "        # the entries of which are the solutions of\n",
    "        # the previous least square\n",
    "        z  = np.zeros(self.A.shape[1], dtype=np.complex)\n",
    "        for j, s in enumerate(sorted(self.S)):\n",
    "            z[s] = zs[j]\n",
    "\n",
    "        return z "
   ]
  },
  {
   "cell_type": "markdown",
   "metadata": {},
   "source": [
    "### 3. Update residual\n",
    "$$ r_i  = y - A \\hat{z}_i $$"
   ]
  },
  {
   "cell_type": "markdown",
   "metadata": {},
   "source": [
    "## Demo\n",
    "\n",
    "sparsity: $k/n \\approx $ 6.7%, number of measurements: $m = n \\times 0.30 = 9$\n",
    "\n",
    "### 1. prepare test signal\n",
    "\n",
    "2-sparse test signal $x \\in R^{10}$. We do not know which entries this signal has."
   ]
  },
  {
   "cell_type": "code",
   "execution_count": 16,
   "metadata": {
    "collapsed": false
   },
   "outputs": [
    {
     "data": {
      "image/png": "[encoded data removed]",
      "text/plain": [
       "<matplotlib.figure.Figure at 0x734ea10>"
      ]
     },
     "metadata": {},
     "output_type": "display_data"
    }
   ],
   "source": [
    "%matplotlib inline\n",
    "import matplotlib.pyplot as plt\n",
    "import numpy as np\n",
    "\n",
    "n         =  30\n",
    "x         =  np.zeros(n)\n",
    "x[n*0.2]  = -np.sqrt(5) # 1.73\n",
    "x[n*0.6]  =  np.pi      # 3.14\n",
    "\n",
    "N = np.arange(n)\n",
    "plt.stem(x)\n",
    "plt.show()"
   ]
  },
  {
   "cell_type": "markdown",
   "metadata": {},
   "source": [
    "### 2. linear measurement"
   ]
  },
  {
   "cell_type": "code",
   "execution_count": 17,
   "metadata": {
    "collapsed": false
   },
   "outputs": [
    {
     "data": {
      "image/png": "[encoded data removed]",
      "text/plain": [
       "<matplotlib.figure.Figure at 0x7884c70>"
      ]
     },
     "metadata": {},
     "output_type": "display_data"
    }
   ],
   "source": [
    "from CSToolbox.generator.random_matrix import gaussian\n",
    "\n",
    "m  =  n*0.30 # number of measurement (10% of vector length)\n",
    "A  =  gaussian(m,n)\n",
    "\n",
    "plt.title('measurement matrix')\n",
    "plt.imshow(A, cmap='gray', interpolation='none')\n",
    "plt.show()"
   ]
  },
  {
   "cell_type": "code",
   "execution_count": 18,
   "metadata": {
    "collapsed": false
   },
   "outputs": [
    {
     "name": "stdout",
     "output_type": "stream",
     "text": [
      "[-0.84759014 -0.45067097  0.65973092  1.33440225  1.40813043 -0.98754781\n",
      " -2.5988034  -0.29267593 -0.51565431]\n"
     ]
    }
   ],
   "source": [
    "y = np.dot(A, x)\n",
    "print y"
   ]
  },
  {
   "cell_type": "markdown",
   "metadata": {},
   "source": [
    "### 3. sparse recovery"
   ]
  },
  {
   "cell_type": "code",
   "execution_count": 20,
   "metadata": {
    "collapsed": false
   },
   "outputs": [
    {
     "data": {
      "image/png": "[encoded data removed]",
      "text/plain": [
       "<matplotlib.figure.Figure at 0x829b970>"
      ]
     },
     "metadata": {},
     "output_type": "display_data"
    },
    {
     "data": {
      "image/png": "[encoded data removed]",
      "text/plain": [
       "<matplotlib.figure.Figure at 0x82cee70>"
      ]
     },
     "metadata": {},
     "output_type": "display_data"
    },
    {
     "name": "stdout",
     "output_type": "stream",
     "text": [
      "Converged\n",
      "------- summary ------\n",
      "[ HTP ]\n",
      "number of iterations: 2\n",
      "specified error:   1.00e-05\n",
      "residual norm (e): 4.55e-16\n",
      "\n"
     ]
    }
   ],
   "source": [
    "from CSToolbox.greedy.HTP import HTP\n",
    "\n",
    "iterator = HTP(A, y, k=2)\n",
    "iterator.set_maxiterations(5)\n",
    "\n",
    "for z in iterator:\n",
    "    plt.title('Iteration %d' % iterator.iterations )\n",
    "    plt.stem(z.real, label='recovered')\n",
    "    plt.scatter(N, x, s=60, c='r', marker='x', label='actual')\n",
    "    plt.legend()\n",
    "    plt.show()"
   ]
  }
 ],
 "metadata": {
  "kernelspec": {
   "display_name": "Python 2",
   "language": "python",
   "name": "python2"
  },
  "language_info": {
   "codemirror_mode": {
    "name": "ipython",
    "version": 2
   },
   "file_extension": ".py",
   "mimetype": "text/x-python",
   "name": "python",
   "nbconvert_exporter": "python",
   "pygments_lexer": "ipython2",
   "version": "2.7.9"
  }
 },
 "nbformat": 4,
 "nbformat_minor": 0
}
