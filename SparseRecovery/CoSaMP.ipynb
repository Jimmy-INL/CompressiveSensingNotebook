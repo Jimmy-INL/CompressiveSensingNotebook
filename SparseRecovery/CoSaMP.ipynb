{
 "cells": [
  {
   "cell_type": "markdown",
   "metadata": {},
   "source": [
    "# CoSaMP (Compressive Sampling Matching Pursuit)\n",
    "CoSaMP  is a greedy algorithm.\n",
    "\n",
    "#Algorithm\n",
    " \n",
    "## A. Initialization\n",
    "\n",
    "At first, y is set to a residual $r$, estimated signal $z$ is zero vector, and support set $S$ to be empty\n",
    "\n",
    "$$\n",
    "z_0 = O     \\\\\n",
    "r_0 = y     \\\\\n",
    "S_0 = \\phi  \\\\\n",
    "$$\n"
   ]
  },
  {
   "cell_type": "code",
   "execution_count": 15,
   "metadata": {
    "collapsed": false
   },
   "outputs": [],
   "source": [
    "    # in class Greedy\n",
    "    def __init__(self, A, y):  \n",
    "        \n",
    "        # Initialization\n",
    "        self.z  = np.zeros(self.n, dtype=np.complex)\n",
    "        self.r  = self.y\n",
    "        \n",
    "\n",
    "    # in class CoSaMP\n",
    "    def __init__(self, A, y, k):\n",
    "        \n",
    "        self.S  = set([]) # support set(indexes)\n"
   ]
  },
  {
   "cell_type": "markdown",
   "metadata": {},
   "source": [
    "## B. Iteration\n",
    "\n",
    "### 1. Update the support set\n",
    "adding supports to the support set\n",
    "\n",
    "$$ U^{n+1} = supp(z_n) ~ \\bigcup ~ L_{2k} \\left( A^* r_{i-1} \\right) $$\n",
    "\n",
    "where $L_k$ is a hard thresholding operator to get the idexes of $k$ largest entries.\n",
    "\n",
    "### 2. $l_2$ minimization\n",
    "\n",
    "Combine columns of which indexes are in the support set $S$, as $A_s$.\n",
    "\n",
    "$$ A_s = \\{ A_k ~|~ k \\in S_i \\} $$\n",
    "\n",
    "Next, do $l_2$ minimization by using the pseudo inverse matrix of $A_s$.\n",
    "\n",
    "$$ \\hat{u}_i = {A_s}^- y  $$\n",
    "\n",
    "### 3. Hard thresholding\n",
    "\n",
    "$$ \\hat{z}_i = H_k \\left( \\hat{u}_i \\right) $$\n",
    "\n",
    "### 4. Update residual\n",
    "$$ r_i  = y - A \\hat{z}_{i} $$"
   ]
  },
  {
   "cell_type": "code",
   "execution_count": 2,
   "metadata": {
    "collapsed": false
   },
   "outputs": [],
   "source": [
    "    def iterate(self):    \n",
    "\n",
    "        # update support sets \n",
    "        z        = np.dot( np.conj(self.A.T), self.r ) \n",
    "        s        = indexThresholding(z, 2*self.k)\n",
    "        self.S  |= set(s)\n",
    "        \n",
    "        As  = self.A[:, sorted(self.S)]  # pick up columns which have the index in S\n",
    "        us  = np.dot( np.linalg.pinv(As), self.y )  # solve least square\n",
    "        u   = np.zeros(self.A.shape[1], dtype=np.complex)\n",
    "        for j, s in enumerate(sorted(self.S)):\n",
    "            u[s] = us[j]\n",
    "\n",
    "        return hardThresholding(u, self.k)\n",
    "    "
   ]
  },
  {
   "cell_type": "markdown",
   "metadata": {},
   "source": [
    "## Demo\n",
    "\n",
    "### 1. prepare test signal\n",
    "\n",
    "2-sparse test signal $x \\in R^{10}$. We do not know which entries this signal has."
   ]
  },
  {
   "cell_type": "code",
   "execution_count": 10,
   "metadata": {
    "collapsed": false
   },
   "outputs": [
    {
     "data": {
      "image/png": "[encoded data removed]",
      "text/plain": [
       "<matplotlib.figure.Figure at 0x8886030>"
      ]
     },
     "metadata": {},
     "output_type": "display_data"
    }
   ],
   "source": [
    "%matplotlib inline\n",
    "import matplotlib.pyplot as plt\n",
    "import numpy as np\n",
    "\n",
    "n         =  30\n",
    "x         =  np.zeros(n)\n",
    "x[n*0.2]  = -np.sqrt(5) # 1.73\n",
    "x[n*0.6]  =  np.pi      # 3.14\n",
    "\n",
    "N = np.arange(n)\n",
    "plt.stem(x, markerfmt='x', linefmt='k--')\n",
    "plt.show()"
   ]
  },
  {
   "cell_type": "markdown",
   "metadata": {},
   "source": [
    "### 2. linear measurement"
   ]
  },
  {
   "cell_type": "code",
   "execution_count": 18,
   "metadata": {
    "collapsed": false
   },
   "outputs": [
    {
     "data": {
      "image/png": "[encoded data removed]",
      "text/plain": [
       "<matplotlib.figure.Figure at 0x74b73b0>"
      ]
     },
     "metadata": {},
     "output_type": "display_data"
    }
   ],
   "source": [
    "from CSToolbox.generator.random_matrix import gaussian\n",
    "\n",
    "m  =  n*0.25 # number of measurement (10% of vector length)\n",
    "A  =  gaussian(m,n)\n",
    "\n",
    "plt.title('measurement matrix')\n",
    "plt.imshow(A, cmap='gray', interpolation='none')\n",
    "plt.show()"
   ]
  },
  {
   "cell_type": "markdown",
   "metadata": {},
   "source": [
    "As mentioned before, we can not know $s$, we just can get inner products vector $y$ through linear measurement."
   ]
  },
  {
   "cell_type": "code",
   "execution_count": 19,
   "metadata": {
    "collapsed": false
   },
   "outputs": [
    {
     "name": "stdout",
     "output_type": "stream",
     "text": [
      "[-1.59961413  0.52600426 -1.02018755  1.67921268  0.64082134 -2.97309366\n",
      "  0.7491904 ]\n"
     ]
    }
   ],
   "source": [
    "y = np.dot(A, x)\n",
    "print y"
   ]
  },
  {
   "cell_type": "markdown",
   "metadata": {},
   "source": [
    "### 3. sparse recovery"
   ]
  },
  {
   "cell_type": "code",
   "execution_count": 20,
   "metadata": {
    "collapsed": false
   },
   "outputs": [
    {
     "data": {
      "image/png": "[encoded data removed]",
      "text/plain": [
       "<matplotlib.figure.Figure at 0x77757d0>"
      ]
     },
     "metadata": {},
     "output_type": "display_data"
    },
    {
     "name": "stdout",
     "output_type": "stream",
     "text": [
      "Converged\n",
      "------- summary ------\n",
      "[ CoSaMP ]\n",
      "number of iterations: 1\n",
      "specified error:   1.00e-05\n",
      "residual norm (e): 2.20e-16\n",
      "\n"
     ]
    }
   ],
   "source": [
    "from CSToolbox.greedy.CoSaMP import CoSaMP\n",
    "\n",
    "iterator = CoSaMP(A, y, 2)\n",
    "iterator.set_maxiterations(5)\n",
    "\n",
    "for z in iterator:\n",
    "    plt.stem(z.real, label='estimated')\n",
    "    plt.scatter(N, x, s=60, c='r', marker='x', label='actual')\n",
    "    plt.legend()\n",
    "    plt.show()"
   ]
  }
 ],
 "metadata": {
  "kernelspec": {
   "display_name": "Python 2",
   "language": "python",
   "name": "python2"
  },
  "language_info": {
   "codemirror_mode": {
    "name": "ipython",
    "version": 2
   },
   "file_extension": ".py",
   "mimetype": "text/x-python",
   "name": "python",
   "nbconvert_exporter": "python",
   "pygments_lexer": "ipython2",
   "version": "2.7.9"
  }
 },
 "nbformat": 4,
 "nbformat_minor": 0
}
