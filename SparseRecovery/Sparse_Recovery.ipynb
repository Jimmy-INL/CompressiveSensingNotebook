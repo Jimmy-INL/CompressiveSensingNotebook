{
 "cells": [
  {
   "cell_type": "markdown",
   "metadata": {},
   "source": [
    "# Sparse Recovery\n",
    "\n",
    "## Greedy\n",
    "* [OMP](./OMP.ipynb)\n",
    "* [CoSaMP](./CoSaMP.ipynb)\n",
    "\n",
    "## Thresholding\n",
    "* [IHT](./IHT.ipynb)\n",
    "* [HTP](./HTP.ipynb)\n",
    "\n",
    "\n",
    "\n",
    "## Performance comparison\n",
    "\n",
    "### OMP\n",
    "![OMP](./recovery_rate_OMP.png \"recovery rate of OMP\")\n",
    "\n",
    "### CoSaMP\n",
    "![CoSaMP](./recovery_rate_CoSaMP.png \"recovery rate of CoSaMP\")\n",
    "\n",
    "### HTP\n",
    "![HTP](./recovery_rate_HTP.png \"recovery rate of HTP\")"
   ]
  }
 ],
 "metadata": {
  "kernelspec": {
   "display_name": "Python 2",
   "language": "python",
   "name": "python2"
  },
  "language_info": {
   "codemirror_mode": {
    "name": "ipython",
    "version": 2
   },
   "file_extension": ".py",
   "mimetype": "text/x-python",
   "name": "python",
   "nbconvert_exporter": "python",
   "pygments_lexer": "ipython2",
   "version": "2.7.9"
  }
 },
 "nbformat": 4,
 "nbformat_minor": 0
}
