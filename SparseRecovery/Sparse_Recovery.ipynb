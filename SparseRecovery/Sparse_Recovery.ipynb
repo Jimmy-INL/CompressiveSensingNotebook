{
 "cells": [
  {
   "cell_type": "markdown",
   "metadata": {},
   "source": [
    "# Sparse Recovery\n",
    "\n",
    "Sparse recovery is a nonlinear method to recover original signals from linear measurement data in compressive sensing.\n",
    "There are so many kinds of methods, convex optimization, iterative algorithm called greedy methods and thresholding methods.\n",
    "This section shows performances of each methods in two perspective, recovery rate and computation time.\n",
    "These are recovery rate heat maps which have probability distribution of sparse recovery in the plane [$\\alpha$ x $\\rho$]. Where $\\alpha$ is signal density $k/n$ and $\\rho$ is compression rate $m/n$.\n",
    "\n",
    "## Characteristics\n",
    "\n",
    "### [OMP](./OMP.ipynb)\n",
    "OMP is high performance and does not need previous knowledge of sparsity $k$.\n",
    "However it takes long time for calculation since it have to calculate pseudo inverse matrix.\n",
    "![OMP](./recovery_rate_OMP.png \"recovery rate of OMP\")\n",
    "\n",
    "### [CoSaMP](./CoSaMP.ipynb)\n",
    "![CoSaMP](./recovery_rate_CoSaMP.png \"recovery rate of CoSaMP\")\n",
    "\n",
    "\n",
    "### [HTP](./HTP.ipynb)\n",
    "![HTP](./recovery_rate_HTP.png \"recovery rate of HTP\")\n",
    "\n",
    "\n",
    "### [IHT](./IHT.ipynb)\n",
    "\n",
    "\n"
   ]
  }
 ],
 "metadata": {
  "kernelspec": {
   "display_name": "Python 2",
   "language": "python",
   "name": "python2"
  },
  "language_info": {
   "codemirror_mode": {
    "name": "ipython",
    "version": 2
   },
   "file_extension": ".py",
   "mimetype": "text/x-python",
   "name": "python",
   "nbconvert_exporter": "python",
   "pygments_lexer": "ipython2",
   "version": "2.7.9"
  }
 },
 "nbformat": 4,
 "nbformat_minor": 0
}
