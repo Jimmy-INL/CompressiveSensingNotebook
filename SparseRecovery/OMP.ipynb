{
 "cells": [
  {
   "cell_type": "markdown",
   "metadata": {},
   "source": [
    "# OMP (Orthogonal Matching Pursuit)\n",
    "greedy algorithm.\n",
    "\n",
    "#Algorithm\n",
    " \n",
    "-------------------------\n",
    "## Initialization\n",
    "\n",
    "At first, y is set to a residual $r$, estimated signal $z$ is zero vector, and support set $S$ to be empty\n",
    "\n",
    "$$\n",
    "z_0 = O     \\\\\n",
    "r_0 = y     \\\\\n",
    "S_0 = \\phi  \\\\\n",
    "$$"
   ]
  },
  {
   "cell_type": "code",
   "execution_count": 1,
   "metadata": {
    "collapsed": false
   },
   "outputs": [],
   "source": [
    "    # in class Greedy\n",
    "    def __init__(self, A, y):  \n",
    "        \n",
    "        # Initialization\n",
    "        self.z  = np.zeros(self.n, dtype=np.complex)\n",
    "        self.r  = self.y\n",
    "        \n",
    "\n",
    "    # in class OMP\n",
    "    def __init__(self, A, y):\n",
    "        \n",
    "        self.S  = set([]) # support set(indexes)"
   ]
  },
  {
   "cell_type": "markdown",
   "metadata": {},
   "source": [
    "## Iteration\n",
    "\n",
    "### 1. Find the index of a most correlated entry\n",
    "Calculate correlation vector $g$ from adjoint matrix $A^*$ and residual $r$.\n",
    "\n",
    "$$ g_i = A^* r_{i-1} $$\n",
    "\n",
    "Then, find the index $i$ of which the value is max.\n",
    "The value is entry nomalized by the norm of the column.\n",
    "\n",
    "$$ j = \\arg\\max\\limits_i \\left( \\frac{g_i}{|| A_i ||_2} \\right) $$\n",
    "\n",
    "\n",
    "### 2. Append the index to support set\n",
    "\n",
    "$$ S_i = S_{i-1} \\cup j $$\n",
    "\n",
    "\n",
    "### 3. $l_2$ minimization\n",
    "\n",
    "Combine columns of which indexes are in the support set $S$, as $A_s$.\n",
    "\n",
    "$$ A_s = \\{ A_k ~|~ k \\in S_i \\} $$\n",
    "\n",
    "Next, do $l_2$ minimization by using the pseudo inverse matrix of $A_s$.\n",
    "\n",
    "$$ \\hat{z}_i = {A_s}^- y $$\n",
    "\n",
    "\n",
    "### 4. Update residual\n",
    "$$ r_i  = y - A \\hat{z}_{i} $$"
   ]
  },
  {
   "cell_type": "code",
   "execution_count": 12,
   "metadata": {
    "collapsed": false
   },
   "outputs": [],
   "source": [
    "    def iterate(self):    \n",
    "\n",
    "        # 1. Find the index of a most correlated entry\n",
    "        p       = np.dot( np.conj(self.A.T), self.r ) \n",
    "        j       = np.argmax( np.abs(p) )\n",
    "\n",
    "        # 2. Append the index to support set\n",
    "        self.S.add(j)\n",
    "        \n",
    "        # 3. $l_2$ minimization\n",
    "        As      = self.A[:, sorted(self.S)]             # pick up columns which have the index in S\n",
    "        xs      = np.dot( np.linalg.pinv(As), self.y )  # solve least square\n",
    "        self.x  = np.zeros(self.A.shape[1], dtype=np.complex)\n",
    "        for j, s in enumerate(sorted(self.S)):\n",
    "            self.x[s] = xs[j]\n",
    "\n",
    "        # 4. Update residual\n",
    "        self.r  = self.y - np.dot(self.A, self.x)\n",
    "        return self.x"
   ]
  },
  {
   "cell_type": "markdown",
   "metadata": {},
   "source": [
    "# Demo\n",
    "\n",
    "------------------------------------\n",
    "\n",
    "## 1. prepare test signal\n",
    "\n",
    "2-sparse test signal $x \\in R^{10}$. We do not know which entries this signal has."
   ]
  },
  {
   "cell_type": "code",
   "execution_count": 28,
   "metadata": {
    "collapsed": false
   },
   "outputs": [
    {
     "data": {
      "image/png": "[encoded data removed]",
      "text/plain": [
       "<matplotlib.figure.Figure at 0x7157750>"
      ]
     },
     "metadata": {},
     "output_type": "display_data"
    }
   ],
   "source": [
    "%matplotlib inline\n",
    "import matplotlib.pyplot as plt\n",
    "import numpy as np\n",
    "\n",
    "n         =  30\n",
    "x         =  np.zeros(n)\n",
    "x[n*0.2]  = -np.sqrt(5) # 1.73\n",
    "x[n*0.6]  =  np.pi      # 3.14\n",
    "\n",
    "N = np.arange(n)\n",
    "plt.stem(x)\n",
    "plt.show()"
   ]
  },
  {
   "cell_type": "markdown",
   "metadata": {},
   "source": [
    "## 2. linear measurement"
   ]
  },
  {
   "cell_type": "code",
   "execution_count": 14,
   "metadata": {
    "collapsed": false
   },
   "outputs": [
    {
     "data": {
      "image/png": "[encoded data removed]",
      "text/plain": [
       "<matplotlib.figure.Figure at 0x7ca1cd0>"
      ]
     },
     "metadata": {},
     "output_type": "display_data"
    }
   ],
   "source": [
    "from CSToolbox.generator.random_matrix import gaussian\n",
    "\n",
    "m  =  n*0.25 # number of measurement (10% of vector length)\n",
    "A  =  gaussian(m,n)\n",
    "\n",
    "plt.title('measurement matrix')\n",
    "plt.imshow(A, cmap='gray', interpolation='none')\n",
    "plt.show()"
   ]
  },
  {
   "cell_type": "markdown",
   "metadata": {},
   "source": [
    "As mentioned before, we can not know $s$, we just can get inner products vector $y$ through linear measurement."
   ]
  },
  {
   "cell_type": "code",
   "execution_count": 15,
   "metadata": {
    "collapsed": false
   },
   "outputs": [
    {
     "name": "stdout",
     "output_type": "stream",
     "text": [
      "[-3.84347131 -1.56094015  1.42087881 -0.0605404   1.08621118  0.07040156\n",
      "  1.50878317]\n"
     ]
    }
   ],
   "source": [
    "y = np.dot(A, x)\n",
    "print y"
   ]
  },
  {
   "cell_type": "markdown",
   "metadata": {},
   "source": [
    "## 3. sparse recovery"
   ]
  },
  {
   "cell_type": "code",
   "execution_count": 29,
   "metadata": {
    "collapsed": false
   },
   "outputs": [
    {
     "data": {
      "image/png": "[encoded data removed]",
      "text/plain": [
       "<matplotlib.figure.Figure at 0x6c98ad0>"
      ]
     },
     "metadata": {},
     "output_type": "display_data"
    },
    {
     "data": {
      "image/png": "[encoded data removed]",
      "text/plain": [
       "<matplotlib.figure.Figure at 0x6c80cf0>"
      ]
     },
     "metadata": {},
     "output_type": "display_data"
    },
    {
     "name": "stdout",
     "output_type": "stream",
     "text": [
      "Converged\n",
      "------- summary ------\n",
      "[ OMP ]\n",
      "number of iterations: 2\n",
      "specified error:   1.00e-05\n",
      "residual norm (e): 2.36e-16\n",
      "\n"
     ]
    }
   ],
   "source": [
    "from CSToolbox.greedy.OMP import OMP\n",
    "\n",
    "iterator = OMP(A, y)\n",
    "iterator.set_maxiterations(5)\n",
    "\n",
    "for z in iterator:\n",
    "    plt.stem(z.real, label='estimated')\n",
    "    plt.scatter(N, x, s=60, c='r', marker='x', label='actual')\n",
    "    plt.legend()\n",
    "    plt.show()"
   ]
  }
 ],
 "metadata": {
  "kernelspec": {
   "display_name": "Python 2",
   "language": "python",
   "name": "python2"
  },
  "language_info": {
   "codemirror_mode": {
    "name": "ipython",
    "version": 2
   },
   "file_extension": ".py",
   "mimetype": "text/x-python",
   "name": "python",
   "nbconvert_exporter": "python",
   "pygments_lexer": "ipython2",
   "version": "2.7.9"
  }
 },
 "nbformat": 4,
 "nbformat_minor": 0
}
