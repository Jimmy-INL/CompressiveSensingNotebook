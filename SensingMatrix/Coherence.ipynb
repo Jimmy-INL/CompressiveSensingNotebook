{
 "cells": [
  {
   "cell_type": "markdown",
   "metadata": {},
   "source": [
    "# Coherence\n",
    "\n",
    "Coherence is a performance criteria of a sensing matrix.\n",
    "Coherence is more practical than RIP.\n",
    "It is correlation between a column of sensing matrix and other column of it.\n",
    "This will be important when we think some types of performance gurantees.\n",
    "\n",
    "## Definition\n",
    "\n",
    "Coherence of a sensing matrix $A$ is...\n",
    "\n",
    "$ \\mu(A) = \\max\\limits_{1 \\leq i \\neq j \\leq N} |\\langle a_i, a_j \\rangle| $\n",
    "\n",
    "where $a_i,...,a_N$ are $l_2$-normalized columns of sensing matrix $A$.\n"
   ]
  },
  {
   "cell_type": "markdown",
   "metadata": {},
   "source": [
    "-------------\n",
    "\n",
    "## Coherence samples of various types of matrix\n",
    "\n",
    "\n",
    "### 1. Identity matrix\n",
    "\n",
    "At first, we make identity matrix."
   ]
  },
  {
   "cell_type": "code",
   "execution_count": 2,
   "metadata": {
    "collapsed": false
   },
   "outputs": [
    {
     "name": "stdout",
     "output_type": "stream",
     "text": [
      "[[ 1.  0.  0.  0.  0.]\n",
      " [ 0.  1.  0.  0.  0.]\n",
      " [ 0.  0.  1.  0.  0.]\n",
      " [ 0.  0.  0.  1.  0.]\n",
      " [ 0.  0.  0.  0.  1.]]\n",
      "\n",
      "coherence:  0.0\n"
     ]
    }
   ],
   "source": [
    "import numpy as np\n",
    "from CSToolbox.evaluator import coherence\n",
    "\n",
    "\n",
    "A = np.eye(5, 5)\n",
    "\n",
    "print A\n",
    "print\n",
    "print \"coherence: \", coherence(A)"
   ]
  },
  {
   "cell_type": "markdown",
   "metadata": {},
   "source": [
    "Coherence of identity matrix is zero, because all columns of a identity matrix are orthogonal each other.\n",
    "This is minimum value of coherence.\n",
    "On the contrary, let's consider matrix which of all elements are same value, for example, all elements are one as below."
   ]
  },
  {
   "cell_type": "code",
   "execution_count": 3,
   "metadata": {
    "collapsed": false
   },
   "outputs": [
    {
     "name": "stdout",
     "output_type": "stream",
     "text": [
      "[[ 1.  1.  1.  1.  1.  1.  1.  1.  1.  1.  1.  1.  1.  1.  1.  1.  1.  1.]\n",
      " [ 1.  1.  1.  1.  1.  1.  1.  1.  1.  1.  1.  1.  1.  1.  1.  1.  1.  1.]\n",
      " [ 1.  1.  1.  1.  1.  1.  1.  1.  1.  1.  1.  1.  1.  1.  1.  1.  1.  1.]\n",
      " [ 1.  1.  1.  1.  1.  1.  1.  1.  1.  1.  1.  1.  1.  1.  1.  1.  1.  1.]\n",
      " [ 1.  1.  1.  1.  1.  1.  1.  1.  1.  1.  1.  1.  1.  1.  1.  1.  1.  1.]]\n",
      "\n",
      "coherence:  1.0\n"
     ]
    }
   ],
   "source": [
    "m, n = 5, 18\n",
    "\n",
    "A = np.ones([m,n])\n",
    "print A\n",
    "print\n",
    "print \"coherence: \", coherence(A)"
   ]
  },
  {
   "cell_type": "markdown",
   "metadata": {},
   "source": [
    "In this situation, coherence is one, which is maximum value.\n",
    "This means there is any columns are completely coherent.\n",
    "\n",
    "### 2. Gaussian and sub-gaussian matrix."
   ]
  },
  {
   "cell_type": "code",
   "execution_count": 4,
   "metadata": {
    "collapsed": false
   },
   "outputs": [
    {
     "name": "stdout",
     "output_type": "stream",
     "text": [
      "coherenece of sG:  0.934806698855\n",
      "coherenece of  G:  0.853638780544\n"
     ]
    }
   ],
   "source": [
    "from CSToolbox.sensing_matrix import gaussian, subgaussian\n",
    "\n",
    "sG = subgaussian(m, n)\n",
    "G  = gaussian(m,n)\n",
    "\n",
    "print \"coherenece of sG: \", coherence(sG)\n",
    "print \"coherenece of  G: \", coherence(G)"
   ]
  },
  {
   "cell_type": "markdown",
   "metadata": {},
   "source": [
    "### 3. Bernoulli matrix"
   ]
  },
  {
   "cell_type": "code",
   "execution_count": 5,
   "metadata": {
    "collapsed": false
   },
   "outputs": [
    {
     "name": "stdout",
     "output_type": "stream",
     "text": [
      "[[0 0 1 0 1 1 0 0 0 0 1 0 1 1 0 0 0 1]\n",
      " [1 1 1 1 1 0 0 1 1 0 0 0 0 0 1 1 0 0]\n",
      " [1 0 0 0 0 1 1 1 1 0 0 0 1 0 0 1 1 1]\n",
      " [1 0 0 0 1 0 1 1 0 1 0 1 0 0 1 0 0 1]\n",
      " [1 0 1 0 0 1 1 1 0 0 1 0 0 0 0 0 1 0]]\n",
      "\n",
      "coherene of B:  1.0\n"
     ]
    }
   ],
   "source": [
    "from CSToolbox.sensing_matrix import bernoulli\n",
    "\n",
    "B = bernoulli(m, n)\n",
    "\n",
    "print B\n",
    "print \n",
    "print \"coherene of B: \", coherence(B)"
   ]
  },
  {
   "cell_type": "markdown",
   "metadata": {},
   "source": [
    "If a bernoulli matrix have small number of rows, coherence may be large.\n",
    "Because same columns likely to be generated."
   ]
  },
  {
   "cell_type": "markdown",
   "metadata": {},
   "source": [
    "-------------\n",
    "\n",
    "## The relationship between the number of columns and the number of rows\n",
    "\n",
    "* Keep the compression rate $\\alpha~(=m/n)$ equals 0.1."
   ]
  },
  {
   "cell_type": "code",
   "execution_count": 6,
   "metadata": {
    "collapsed": false
   },
   "outputs": [],
   "source": [
    "alpha = 0.1"
   ]
  },
  {
   "cell_type": "markdown",
   "metadata": {},
   "source": [
    "### 1. cohenerence $\\mu$ and the number of rows $m$"
   ]
  },
  {
   "cell_type": "code",
   "execution_count": 10,
   "metadata": {
    "collapsed": false
   },
   "outputs": [
    {
     "data": {
      "image/png": "[encoded data removed]",
      "text/plain": [
       "<matplotlib.figure.Figure at 0x8b60bf0>"
      ]
     },
     "metadata": {},
     "output_type": "display_data"
    }
   ],
   "source": [
    "import matplotlib.pyplot as plt\n",
    "%matplotlib inline\n",
    "\n",
    "\n",
    "m_min  = 1\n",
    "m_max  = 100\n",
    "n      = 10\n",
    "\n",
    "for m in np.arange(m_min, m_max):\n",
    "    A = gaussian(m, n)\n",
    "    mu = coherence(A)\n",
    "    plt.scatter(m, mu)\n",
    "\n",
    "plt.xlabel('m')\n",
    "plt.xlim(0, m_max)\n",
    "plt.ylabel(r'coherence $\\mu$')\n",
    "plt.show()"
   ]
  },
  {
   "cell_type": "markdown",
   "metadata": {},
   "source": [
    "It seems that less columns the matrix has, smaller the coherence is.\n",
    "\n",
    "### 2. cohenerence $\\mu$ and the number of columns $n$"
   ]
  },
  {
   "cell_type": "code",
   "execution_count": 15,
   "metadata": {
    "collapsed": false,
    "scrolled": true
   },
   "outputs": [
    {
     "data": {
      "image/png": "[encoded data removed]",
      "text/plain": [
       "<matplotlib.figure.Figure at 0x7a0a2d0>"
      ]
     },
     "metadata": {},
     "output_type": "display_data"
    }
   ],
   "source": [
    "n_min  = 2\n",
    "n_max  = 100\n",
    "m      = 5\n",
    "\n",
    "for n in np.arange(n_min, n_max):\n",
    "    A = gaussian(m, n)\n",
    "    mu = coherence(A)\n",
    "    plt.scatter(n, mu)\n",
    "\n",
    "plt.xlabel('n')\n",
    "plt.xlim(0, n_max)\n",
    "plt.ylabel(r'coherence $\\mu$')\n",
    "plt.show()"
   ]
  },
  {
   "cell_type": "markdown",
   "metadata": {},
   "source": [
    "It seems $n$ does hardly affect the coherence.\n",
    "Except for too small $n$ compared with $m$, compression rate $\\rho(m/n)$ is less than 20%."
   ]
  }
 ],
 "metadata": {
  "kernelspec": {
   "display_name": "Python 2",
   "language": "python",
   "name": "python2"
  },
  "language_info": {
   "codemirror_mode": {
    "name": "ipython",
    "version": 2
   },
   "file_extension": ".py",
   "mimetype": "text/x-python",
   "name": "python",
   "nbconvert_exporter": "python",
   "pygments_lexer": "ipython2",
   "version": "2.7.9"
  }
 },
 "nbformat": 4,
 "nbformat_minor": 0
}
