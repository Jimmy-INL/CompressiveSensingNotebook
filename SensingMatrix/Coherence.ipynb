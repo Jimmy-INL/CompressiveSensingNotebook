{
 "cells": [
  {
   "cell_type": "markdown",
   "metadata": {},
   "source": [
    "# Coherence\n",
    "\n",
    "Coherence is a performance criteria of a sensing matrix.\n",
    "Coherence is more practical than RIP.\n",
    "It is correlation between a column of sensing matrix and other column of it.\n",
    "This will be important when we think some types of performance gurantees.\n",
    "\n",
    "## Definition\n",
    "\n",
    "Coherence of a sensing matrix $A$ is...\n",
    "\n",
    "$ \\mu(A) = \\max\\limits_{1 \\leq i \\neq j \\leq N} |\\langle a_i, a_j \\rangle| $\n",
    "\n",
    "where $a_i,...,a_N$ are $l_2$-normalized columns of sensing matrix $A$.\n"
   ]
  },
  {
   "cell_type": "markdown",
   "metadata": {},
   "source": [
    "## Experiments\n",
    "\n",
    "\n",
    "### 1. Worst case\n",
    "At first, we make all one matrix.\n"
   ]
  },
  {
   "cell_type": "code",
   "execution_count": 14,
   "metadata": {
    "collapsed": false
   },
   "outputs": [
    {
     "name": "stdout",
     "output_type": "stream",
     "text": [
      "[[ 1.  1.  1. ...,  1.  1.  1.]\n",
      " [ 1.  1.  1. ...,  1.  1.  1.]\n",
      " [ 1.  1.  1. ...,  1.  1.  1.]\n",
      " ..., \n",
      " [ 1.  1.  1. ...,  1.  1.  1.]\n",
      " [ 1.  1.  1. ...,  1.  1.  1.]\n",
      " [ 1.  1.  1. ...,  1.  1.  1.]]\n"
     ]
    }
   ],
   "source": [
    "import numpy as np\n",
    "\n",
    "m, n = 20, 100\n",
    "\n",
    "A = np.ones([m, n])\n",
    "print A"
   ]
  },
  {
   "cell_type": "code",
   "execution_count": 15,
   "metadata": {
    "collapsed": false
   },
   "outputs": [
    {
     "name": "stdout",
     "output_type": "stream",
     "text": [
      "coherence of A:  1.0\n"
     ]
    }
   ],
   "source": [
    "from CSToolbox.evaluator import coherence\n",
    "\n",
    "print \"coherence of A: \", coherence(A)"
   ]
  },
  {
   "cell_type": "markdown",
   "metadata": {},
   "source": [
    "### 2. Gaussian and sub-gaussian matrix\n"
   ]
  },
  {
   "cell_type": "code",
   "execution_count": 20,
   "metadata": {
    "collapsed": false
   },
   "outputs": [
    {
     "name": "stdout",
     "output_type": "stream",
     "text": [
      "[[-0.28403269 -0.03356814 -0.20038726 ..., -0.15947098 -0.10150734\n",
      "   0.10003027]\n",
      " [ 0.09586916 -0.07745809  0.21488706 ...,  0.72164804  0.05607449\n",
      "   0.37509357]\n",
      " [-0.06264855 -0.02607093  0.06517972 ..., -0.02454057  0.52739361\n",
      "  -0.04744243]\n",
      " ..., \n",
      " [ 0.04025046 -0.31646624 -0.12079195 ..., -0.19210048  0.10817978\n",
      "   0.33064333]\n",
      " [-0.12104763 -0.04311207 -0.19798852 ..., -0.29366961 -0.1470549\n",
      "  -0.39061565]\n",
      " [ 0.07669081 -0.24645084  0.16658092 ..., -0.2718142  -0.04445597\n",
      "   0.20613183]]\n",
      "\n",
      "coherene of sG:  0.772623550564\n",
      "coherene of G:   0.701837317642\n"
     ]
    }
   ],
   "source": [
    "from CSToolbox.sensing_matrix import gaussian, subgaussian\n",
    "\n",
    "sG = subgaussian(m, n)\n",
    "G  = gaussian(m,n)\n",
    "\n",
    "print sG\n",
    "print \n",
    "print \"coherene of sG: \", coherence(sG)\n",
    "print \"coherene of G:  \", coherence(G)"
   ]
  },
  {
   "cell_type": "markdown",
   "metadata": {},
   "source": [
    "### 3. Bernoulli matrix"
   ]
  },
  {
   "cell_type": "code",
   "execution_count": 17,
   "metadata": {
    "collapsed": false
   },
   "outputs": [
    {
     "name": "stdout",
     "output_type": "stream",
     "text": [
      "[[1 1 1 ..., 1 0 0]\n",
      " [0 0 1 ..., 1 1 1]\n",
      " [1 1 1 ..., 0 1 0]\n",
      " ..., \n",
      " [0 0 0 ..., 0 1 1]\n",
      " [0 1 1 ..., 0 0 0]\n",
      " [1 1 0 ..., 1 1 1]]\n",
      "\n",
      "coherene of B:  0.894427191\n"
     ]
    }
   ],
   "source": [
    "from CSToolbox.sensing_matrix import bernoulli\n",
    "\n",
    "B = bernoulli(m, n)\n",
    "\n",
    "print B\n",
    "print \n",
    "print \"coherene of B: \", coherence(B)"
   ]
  }
 ],
 "metadata": {
  "kernelspec": {
   "display_name": "Python 2",
   "language": "python",
   "name": "python2"
  },
  "language_info": {
   "codemirror_mode": {
    "name": "ipython",
    "version": 2
   },
   "file_extension": ".py",
   "mimetype": "text/x-python",
   "name": "python",
   "nbconvert_exporter": "python",
   "pygments_lexer": "ipython2",
   "version": "2.7.9"
  }
 },
 "nbformat": 4,
 "nbformat_minor": 0
}
