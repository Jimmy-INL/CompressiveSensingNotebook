{
 "cells": [
  {
   "cell_type": "markdown",
   "metadata": {},
   "source": [
    "# OMP (Orthogonal Matching Pursuit)\n",
    "OMP  is a basic greedy algorithm.\n",
    "\n"
   ]
  },
  {
   "cell_type": "markdown",
   "metadata": {},
   "source": [
    " #Algorithm\n",
    " \n",
    "## A. Initialization\n",
    "\n",
    "At first, y is set to a residual $r$, support set $S$ is empty, and estimated signal $x$ is zero vector.\n",
    "\n",
    "$\n",
    "S_0 = \\phi  \\\\\n",
    "x_0 = O     \\\\\n",
    "r_0 = y\n",
    "$"
   ]
  },
  {
   "cell_type": "code",
   "execution_count": 4,
   "metadata": {
    "collapsed": true
   },
   "outputs": [],
   "source": [
    "    def __init__(self, A, y):\n",
    "\n",
    "        self.A  = A\n",
    "        self.y  = y\n",
    "        # Initialization \n",
    "        self.S  = set([]) # support (indexes)\n",
    "        self.z  = np.zeros(A.shape[1], dtype=np.complex)\n",
    "        self.r  = y\n",
    "        self.e  = float(\"inf\") "
   ]
  },
  {
   "cell_type": "markdown",
   "metadata": {},
   "source": [
    "## B. Iteration\n",
    "\n",
    "### 1. Find the index of a most correlated entry\n",
    "Calculate correlation vector $g$ from adjoint matrix $A^*$ and residual $r$.\n",
    "\n",
    "$g_i = A^* r_{i-1}$\n",
    "\n",
    "Then, find the index $j$ of which its entry divided by the correspond column is max.\n",
    "\n",
    "$j   = \\arg\\max ( \\frac{g_i}{|| A_i ||_2} )  $\n",
    "\n",
    "\n",
    "### 2. Append the index to support set\n",
    "\n",
    "$ S_i = S_{i-1} \\cup j  $\n",
    "\n",
    "\n",
    "### 3. $l_2$ minimization\n",
    "\n",
    "Combine columns of which indexes are in the support set $S$, as $A_s$.\n",
    "\n",
    "$ A_s = \\{ A_k ~|~ k \\in S_i \\} $\n",
    "\n",
    "Next, do $l_2$ minimization by using the pseudo inverse matrix of $A_s$.\n",
    "\n",
    "$ \\hat{x}_i = {A_s}^- y  $\n",
    "\n",
    "\n",
    "### 4. Update residual\n",
    "$\n",
    "r_i  = y - A \\hat{x}_{i} \\\\\n",
    "$"
   ]
  },
  {
   "cell_type": "code",
   "execution_count": 7,
   "metadata": {
    "collapsed": false
   },
   "outputs": [],
   "source": [
    "    def iterate(self):    \n",
    "\n",
    "        # 1. Find the index of a most correlated entry\n",
    "        p       = np.dot( np.conj(self.A.T), self.r ) \n",
    "        j       = np.argmax( np.abs(p) )\n",
    "\n",
    "        # 2. Append the index to support set\n",
    "        self.S.add(j)\n",
    "        \n",
    "        # 3. $l_2$ minimization\n",
    "        As      = self.A[:, sorted(self.S)]             # pick up columns which have the index in S\n",
    "        xs      = np.dot( np.linalg.pinv(As), self.y )  # solve least square\n",
    "        self.x  = np.zeros(self.A.shape[1], dtype=np.complex)\n",
    "        for j, s in enumerate(sorted(self.S)):\n",
    "            self.x[s] = xs[j]\n",
    "\n",
    "        # 4. Update residual\n",
    "        self.r  = self.y - np.dot(self.A, self.x)\n",
    "        return self.x"
   ]
  }
 ],
 "metadata": {
  "kernelspec": {
   "display_name": "Python 2",
   "language": "python",
   "name": "python2"
  },
  "language_info": {
   "codemirror_mode": {
    "name": "ipython",
    "version": 2
   },
   "file_extension": ".py",
   "mimetype": "text/x-python",
   "name": "python",
   "nbconvert_exporter": "python",
   "pygments_lexer": "ipython2",
   "version": "2.7.9"
  }
 },
 "nbformat": 4,
 "nbformat_minor": 0
}
