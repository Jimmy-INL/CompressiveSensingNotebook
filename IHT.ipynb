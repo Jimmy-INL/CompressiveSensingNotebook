{
 "cells": [
  {
   "cell_type": "markdown",
   "metadata": {},
   "source": [
    "# IHT (Iterative Hard Thresholding)\n",
    "\n",
    "$\n",
    "\\hat{x}_{i+1} = H_k (~ \\hat{x}^{i} ~ ( y - A \\hat{x}^{i} )~)\n",
    "$\n",
    "\n",
    "$H_k$ is hard thresholding operator. It preserves $k$ largest entries and makes others zero."
   ]
  }
 ],
 "metadata": {
  "kernelspec": {
   "display_name": "Python 2",
   "language": "python",
   "name": "python2"
  },
  "language_info": {
   "codemirror_mode": {
    "name": "ipython",
    "version": 2
   },
   "file_extension": ".py",
   "mimetype": "text/x-python",
   "name": "python",
   "nbconvert_exporter": "python",
   "pygments_lexer": "ipython2",
   "version": "2.7.9"
  }
 },
 "nbformat": 4,
 "nbformat_minor": 0
}
