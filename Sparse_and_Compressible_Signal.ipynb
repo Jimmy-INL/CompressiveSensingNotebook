{
 "cells": [
  {
   "cell_type": "markdown",
   "metadata": {},
   "source": [
    "# Sparse Signal and Compressible Signal"
   ]
  },
  {
   "cell_type": "markdown",
   "metadata": {},
   "source": [
    "## Sparse signal\n",
    "\n",
    "Sparse vector is vectors which entries are almost zero.\n",
    "\n",
    "$\n",
    "x \\in \\Sigma_k \\\\\n",
    "\\Sigma_k = \\{ z ~~ : ~~ ||z||_0 = k \\}, ~~~~~ z \\in \\mathbb{R}^N \n",
    "$"
   ]
  },
  {
   "cell_type": "code",
   "execution_count": 92,
   "metadata": {
    "collapsed": false
   },
   "outputs": [],
   "source": [
    "import numpy as np\n",
    "\n",
    "def sparse(n, k):\n",
    "    u\"\"\"\n",
    "        [return]  k-sparse vector\n",
    "        n:        size of vector\n",
    "        k:        number of nonzero entries\n",
    "    \"\"\"\n",
    "    z   = np.zeros(n)\n",
    "    for i in np.random.choice( np.arange(n), k, replace=None ):   # supports of nonzero entries\n",
    "        z[i] = np.random.randn()\n",
    "    return z\n"
   ]
  },
  {
   "cell_type": "markdown",
   "metadata": {},
   "source": [
    "### Sparse vector example"
   ]
  },
  {
   "cell_type": "code",
   "execution_count": 91,
   "metadata": {
    "collapsed": false
   },
   "outputs": [
    {
     "data": {
      "image/png": "[encoded data removed]",
      "text/plain": [
       "<matplotlib.figure.Figure at 0x8a84c10>"
      ]
     },
     "metadata": {},
     "output_type": "display_data"
    }
   ],
   "source": [
    "%matplotlib inline\n",
    "import matplotlib.pyplot as plt\n",
    "\n",
    "N, k = 10, 2\n",
    "n = np.arange(N)\n",
    "x = sparse(N,k)\n",
    "\n",
    "plt.ylim(-2,2)\n",
    "plt.stem(n, x)\n",
    "plt.show()"
   ]
  },
  {
   "cell_type": "markdown",
   "metadata": {},
   "source": [
    "## Compressible signal\n",
    "\n",
    "Sparse is just the ideal concept. In real situation, it is difficult to find true sparse vector. Because of this, we have to consider more practical concept, it is called **compressible**.\n",
    "\n",
    "\n",
    "\n"
   ]
  },
  {
   "cell_type": "code",
   "execution_count": 88,
   "metadata": {
    "collapsed": true
   },
   "outputs": [],
   "source": [
    "import numpy as np\n",
    "\n",
    "def compressible(n, k, e):\n",
    "    u\"\"\"\n",
    "        [return]  k-sparse vector\n",
    "        n:        size of vector\n",
    "        k:        number of nonzero entries\n",
    "        e:        noise level\n",
    "    \"\"\"\n",
    "    z    = np.zeros(n)\n",
    "    N    = np.arange(n)\n",
    "    K    = np.random.choice( N, k, replace=None )\n",
    "    K_c  = [ i for i in N if i not in K]\n",
    "\n",
    "    for k in K:   # supports of nonzero entries\n",
    "        z[k] = np.random.randn() + 0.2\n",
    "    for i in K_c:\n",
    "        z[i] = e * np.random.randn()\n",
    "        \n",
    "    return z\n"
   ]
  },
  {
   "cell_type": "markdown",
   "metadata": {},
   "source": [
    "### Compressible vector example"
   ]
  },
  {
   "cell_type": "code",
   "execution_count": 90,
   "metadata": {
    "collapsed": false
   },
   "outputs": [
    {
     "data": {
      "image/png": "[encoded data removed]",
      "text/plain": [
       "<matplotlib.figure.Figure at 0x8ddb5f0>"
      ]
     },
     "metadata": {},
     "output_type": "display_data"
    }
   ],
   "source": [
    "N, k = 10, 2\n",
    "n = np.arange(N)\n",
    "x = compressible(N,k, 0.05)\n",
    "\n",
    "plt.ylim(-2,2)\n",
    "plt.stem(n, x)\n",
    "plt.show()"
   ]
  },
  {
   "cell_type": "markdown",
   "metadata": {},
   "source": [
    "### Compressibility\n",
    "\n",
    "Compressibilty is defined as below, depends on  $k$ (sparsity) and $p$ (dimension of norm).\n",
    "\n",
    "$ \\sigma_k (x)_p = \\min\\limits_{\\hat{x} \\in \\Sigma_k} || x - \\hat{x} ||_p $\n",
    "\n",
    "This means, when we make k-sparse vector, of which k largest entries of $\\hat{x}$ equals to entries of $x$, so these differences of k largest entries are to be zero, and then left p-norm residuals in $x$ are summed up to $\\sigma_k (x)_p$.\n",
    "Frankly speaking, therefore, compressibility is the $l_p$-norm residual after taking large entries by k-sparse entries."
   ]
  },
  {
   "cell_type": "code",
   "execution_count": 86,
   "metadata": {
    "collapsed": false
   },
   "outputs": [
    {
     "name": "stdout",
     "output_type": "stream",
     "text": [
      "[compressibility]:  0.126265\n"
     ]
    }
   ],
   "source": [
    "def compressibility(k, x, p):\n",
    "    \n",
    "    K     = np.argsort(x)[:k]\n",
    "    n     = x.shape[0]\n",
    "    for k in K:\n",
    "        x[k] = 0.0\n",
    "    return np.linalg.norm(x,2)\n",
    "\n",
    "\n",
    "N, k  = 10, 2\n",
    "n     = np.arange(N)\n",
    "x     = compressible(N,k, 0.05)\n",
    "print \"[compressibility]:  %f\" % compressibility(k, x, p=2)\n"
   ]
  },
  {
   "cell_type": "markdown",
   "metadata": {},
   "source": [
    "### Compressibility (by decay rate)\n",
    "\n",
    "$c_i$ are coefficients which are sorted in descendant,  $ |c_1| \\geq |c_2| \\geq ... |c_n| $. \n",
    "\n",
    "$\n",
    "|c_i| \\leq {C_1}^{i-q}\n",
    "$\n",
    "\n",
    "$C_1$ and $q$ are positive constants, ($0 < C_1 < 1$, $q>0$) .\n",
    "The smaller $C_1$ is and the larger $q$ is, the higher compressibility becomes.\n"
   ]
  },
  {
   "cell_type": "code",
   "execution_count": 89,
   "metadata": {
    "collapsed": false
   },
   "outputs": [
    {
     "data": {
      "image/png": "[encoded data removed]",
      "text/plain": [
       "<matplotlib.figure.Figure at 0x8e04170>"
      ]
     },
     "metadata": {},
     "output_type": "display_data"
    }
   ],
   "source": [
    "C1, q1  = 0.3, 1.0\n",
    "C2, q2  = 0.7, 1.0\n",
    "C3, q3  = 0.3, 0.5\n",
    "\n",
    "i   = np.arange(20)\n",
    "c1  = np.power( C1, i-q1 )\n",
    "c2  = np.power( C2, i-q2 )\n",
    "c3  = np.power( C3, i-q3 )\n",
    "\n",
    "plt.plot(i, c1, label='C1 = %.1f, q = %.1f' % (C1, q1) )\n",
    "plt.plot(i, c2, label='C1 = %.1f, q = %.1f' % (C2, q2) )\n",
    "plt.plot(i, c3, label='C1 = %.1f, q = %.1f' % (C3, q3) )\n",
    "plt.legend()\n",
    "plt.show()\n"
   ]
  }
 ],
 "metadata": {
  "kernelspec": {
   "display_name": "Python 2",
   "language": "python",
   "name": "python2"
  },
  "language_info": {
   "codemirror_mode": {
    "name": "ipython",
    "version": 2
   },
   "file_extension": ".py",
   "mimetype": "text/x-python",
   "name": "python",
   "nbconvert_exporter": "python",
   "pygments_lexer": "ipython2",
   "version": "2.7.9"
  }
 },
 "nbformat": 4,
 "nbformat_minor": 0
}
