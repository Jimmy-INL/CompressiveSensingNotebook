{
 "cells": [
  {
   "cell_type": "markdown",
   "metadata": {},
   "source": [
    "# Spark\n",
    "\n",
    "## 1. What is spark\n",
    "Spark is a performance evaluation criteria used in Compressive Sensing.\n",
    "Spark is the smallest number of lineary dependent columns in a matrix.\n",
    "In other words, **when $spark(A) = S$, it is guranteed that all combinations of $S-1$ columns of $A$ are lineary independent**.\n",
    "\n",
    "As you see, it is intractable to calculate spark in practical cases when $n$ is more large size vector, because we have to check all combinations of $(n, k)$."
   ]
  },
  {
   "cell_type": "markdown",
   "metadata": {},
   "source": [
    "### Example1:\n",
    "spark of below matrix $A_1$ is 3.\n",
    "\n",
    "$\n",
    "\\begin{equation}\n",
    "A_1 = (c_1, c_2, c_3, c_4) =\n",
    "    \\begin{pmatrix}\n",
    "        1 &0 &1 &1 \\\\\n",
    "        0 &1 &1 &-1\n",
    "    \\end{pmatrix}\n",
    "\\end{equation}\n",
    "$\n",
    "\n",
    "- [1 column ] There are no zero vector column.\n",
    "- [2 columns] All sets of any two columns are linearly independent.\n",
    "- [3 columns] Some sets of three columns, $(c_1, c_2, c_3)$ and $(c_1, c_2, c_4)$, are **linearly dependent**\n",
    "- Since a two columns set which are lineary dependent exists, we do not consider any more.\n",
    "\n",
    "### Example2:\n",
    "spark of below matrix $A_2$ is 2.\n",
    "\n",
    "$\n",
    "\\begin{equation}\n",
    "A_2 =\n",
    "    \\begin{pmatrix}\n",
    "        1 &0 &1 &1 \\\\\n",
    "        0 &1 &1 &0\n",
    "    \\end{pmatrix}\n",
    "\\end{equation}\n",
    "$\n",
    "\n",
    "- [1 column ] There are no zero vector column.\n",
    "- [2 columns] A set of two columns is **linearly dependent**, $(c_1, c_4)$.\n",
    "- Since a two columns set which are lineary dependent exists, we do not consider any more."
   ]
  },
  {
   "cell_type": "markdown",
   "metadata": {},
   "source": [
    "## 2. How to calculate spark\n",
    "\n",
    "pyhton code for calculating spark"
   ]
  },
  {
   "cell_type": "code",
   "execution_count": 1,
   "metadata": {
    "collapsed": false
   },
   "outputs": [],
   "source": [
    "import numpy as np\n",
    "from itertools import combinations\n",
    "\n",
    "def spark(A):\n",
    "    n = A.shape[1]\n",
    "    for k in range(n):\n",
    "        k = k + 1    # [0..n-1] -> [1..n]\n",
    "        for column_set in combinations(range(n), k):\n",
    "            rank = np.linalg.matrix_rank( A[:,column_set] )\n",
    "            if rank < k:\n",
    "                return k\n"
   ]
  },
  {
   "cell_type": "markdown",
   "metadata": {},
   "source": [
    "Starting from few columns set, the number of columns is $k$, this code checks if rank of the matrix is less than $k$, if $rank < k$, the column set is lineary dependent. "
   ]
  },
  {
   "cell_type": "code",
   "execution_count": 114,
   "metadata": {
    "collapsed": false
   },
   "outputs": [
    {
     "name": "stdout",
     "output_type": "stream",
     "text": [
      "spark(A1) = 3\n"
     ]
    }
   ],
   "source": [
    "A1 = np.array([ [1, 0, 1, 1],\n",
    "                [0, 1, 1,-1]  ])\n",
    "\n",
    "print \"spark(A1) = %d\" % spark(A1)"
   ]
  },
  {
   "cell_type": "code",
   "execution_count": 115,
   "metadata": {
    "collapsed": false
   },
   "outputs": [
    {
     "name": "stdout",
     "output_type": "stream",
     "text": [
      "spark(A2) = 2\n"
     ]
    }
   ],
   "source": [
    "A2 = np.array([ [1, 0, 1, 1],\n",
    "                [0, 1, 1, 0]  ])\n",
    "\n",
    "print \"spark(A2) = %d\" % spark(A2)"
   ]
  },
  {
   "cell_type": "markdown",
   "metadata": {},
   "source": [
    "## 3. What is spark for?"
   ]
  },
  {
   "cell_type": "markdown",
   "metadata": {},
   "source": [
    ">The spark of a matrix—useful in compressive sensing—is the smallest number of linearly dependent columns. For example, if some linear combination of three columns sums to zero, but no combination of two columns sums to zero, the spark is three.\n",
    "\n",
    ">Matrix Spark: http://stemblab.github.io/matrix-spark/"
   ]
  }
 ],
 "metadata": {
  "kernelspec": {
   "display_name": "Python 2",
   "language": "python",
   "name": "python2"
  },
  "language_info": {
   "codemirror_mode": {
    "name": "ipython",
    "version": 2
   },
   "file_extension": ".py",
   "mimetype": "text/x-python",
   "name": "python",
   "nbconvert_exporter": "python",
   "pygments_lexer": "ipython2",
   "version": "2.7.9"
  }
 },
 "nbformat": 4,
 "nbformat_minor": 0
}
