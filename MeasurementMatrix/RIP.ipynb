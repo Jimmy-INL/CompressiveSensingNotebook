{
 "cells": [
  {
   "cell_type": "markdown",
   "metadata": {},
   "source": [
    "If we distinguish two sparse vectors $~~x, x' \\in \\Sigma k$, $y$ should not be equal $y'$, which are acquired through $y=Ax, y'=Ax'$. Therefore, $A(x-x') \\ne 0$ is required. When $x-x' \\in \\Sigma_{2k}$."
   ]
  }
 ],
 "metadata": {
  "kernelspec": {
   "display_name": "Python 2",
   "language": "python",
   "name": "python2"
  },
  "language_info": {
   "codemirror_mode": {
    "name": "ipython",
    "version": 2
   },
   "file_extension": ".py",
   "mimetype": "text/x-python",
   "name": "python",
   "nbconvert_exporter": "python",
   "pygments_lexer": "ipython2",
   "version": "2.7.9"
  }
 },
 "nbformat": 4,
 "nbformat_minor": 0
}
