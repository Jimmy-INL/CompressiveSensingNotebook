{
 "cells": [
  {
   "cell_type": "markdown",
   "metadata": {},
   "source": [
    "# OMP"
   ]
  },
  {
   "cell_type": "markdown",
   "metadata": {},
   "source": [
    "OMP (Orthogonal Matching Pursuit) is a basic greedy algorithm."
   ]
  },
  {
   "cell_type": "markdown",
   "metadata": {},
   "source": [
    "In initinalization, a residual, $r$ is set to y, support set $S$ is empty, and estimated signal $z$ is zero vector."
   ]
  },
  {
   "cell_type": "markdown",
   "metadata": {},
   "source": [
    "find the index\n",
    "\n",
    "\\begin{align}\n",
    "r_i &= y - A \\hat{x}_{i-1} \\\\\n",
    "g_i &= A^* r_i \\\\\n",
    "j   &= argmax ( g_i / || A_i ||_2 ) \\\\\n",
    "S_i &= S_{i-1} \\cup j \\\\\n",
    "\\end{align}"
   ]
  },
  {
   "cell_type": "markdown",
   "metadata": {},
   "source": [
    "\\begin{align}\n",
    "A_s &= \\{ A_k ~|~ k \\in S_i \\} \\\\\n",
    "\\hat{x}_i &= {A_s}^- y \\\\\n",
    "\\end{align}"
   ]
  },
  {
   "cell_type": "code",
   "execution_count": 2,
   "metadata": {
    "collapsed": true
   },
   "outputs": [],
   "source": [
    "    def __init__(self, A, y):\n",
    "\n",
    "        # Initialization \n",
    "        self.A  = A\n",
    "        self.y  = y\n",
    "        self.S  = set([]) # support (indexes)\n",
    "        self.r  = y\n",
    "        self.e  = float(\"inf\") \n",
    "        self.z  = np.zeros(A.shape[1], dtype=np.complex)"
   ]
  },
  {
   "cell_type": "code",
   "execution_count": 3,
   "metadata": {
    "collapsed": true
   },
   "outputs": [],
   "source": [
    "class OMP(Greedy):\n",
    "    \n",
    "    def iterate(self):    \n",
    "\n",
    "        # \n",
    "        p       = np.dot( np.conj(self.A.T), self.r ) \n",
    "        j       = np.argmax( np.abs(p) )\n",
    "\n",
    "        # \n",
    "        self.S.add(j)\n",
    "        \n",
    "        # \n",
    "        As      = self.A[:, sorted(self.S)]             # pick up columns which have the index in S\n",
    "        xs      = np.dot( np.linalg.pinv(As), self.y )  # solve least square\n",
    "        self.x  = np.zeros(self.A.shape[1], dtype=np.complex)\n",
    "        for j, s in enumerate(sorted(self.S)):\n",
    "            self.x[s] = xs[j]\n",
    "\n",
    "        self.r  = self.y - np.dot(self.A, self.x)\n",
    "        return self.x"
   ]
  },
  {
   "cell_type": "markdown",
   "metadata": {
    "collapsed": true
   },
   "source": [
    "## IHT\n",
    "iterative hard thresholding\n",
    "\n",
    "$\n",
    "\\hat{x}_{i+1} = H_k (~ \\hat{x}^{i} ~ ( y - A \\hat{x}^{i} )~)\n",
    "$\n",
    "\n",
    "$H_k$ is hard thresholding operator. It preserves $k$ largest entries and makes others zero."
   ]
  }
 ],
 "metadata": {
  "kernelspec": {
   "display_name": "Python 2",
   "language": "python",
   "name": "python2"
  },
  "language_info": {
   "codemirror_mode": {
    "name": "ipython",
    "version": 2
   },
   "file_extension": ".py",
   "mimetype": "text/x-python",
   "name": "python",
   "nbconvert_exporter": "python",
   "pygments_lexer": "ipython2",
   "version": "2.7.9"
  }
 },
 "nbformat": 4,
 "nbformat_minor": 0
}
