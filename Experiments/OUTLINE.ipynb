{
 "cells": [
  {
   "cell_type": "markdown",
   "metadata": {},
   "source": [
    "# OUTLINE\n",
    "\n",
    "## CSPipeline\n",
    "CSToolbox has the simulator of compressive sensing, **CSPipleline**.\n",
    "CSPipleline executes the long flow of compressive sensing. It consists of preparing signals, linear measurement, sparse recovery, and evaluation of the results.\n",
    "\n",
    "You can make some situations, signal length($n$), range of signal density ($\\alpha=k/n$), range of compressiblity ($\\rho=m/n$), etc...\n",
    "After running this simulator, we would get a map of probabilities of suceession of recovery in each situations $(\\alpha, \\rho)$"
   ]
  },
  {
   "cell_type": "markdown",
   "metadata": {},
   "source": [
    "![fig](http://www.gliffy.com/go/publish/image/8800765/L.png \"simulation pipeline\")"
   ]
  },
  {
   "cell_type": "markdown",
   "metadata": {},
   "source": [
    "We can also specify the simulation parameters in json file.\n",
    "\n",
    "In the situation without noises, the bound of success of recovery is set to $10^{-13}$."
   ]
  }
 ],
 "metadata": {
  "kernelspec": {
   "display_name": "Python 2",
   "language": "python",
   "name": "python2"
  },
  "language_info": {
   "codemirror_mode": {
    "name": "ipython",
    "version": 2
   },
   "file_extension": ".py",
   "mimetype": "text/x-python",
   "name": "python",
   "nbconvert_exporter": "python",
   "pygments_lexer": "ipython2",
   "version": "2.7.9"
  }
 },
 "nbformat": 4,
 "nbformat_minor": 0
}
